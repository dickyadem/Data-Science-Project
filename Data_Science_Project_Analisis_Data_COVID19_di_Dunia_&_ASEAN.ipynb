{
  "nbformat": 4,
  "nbformat_minor": 0,
  "metadata": {
    "colab": {
      "name": "Data Science Project: Analisis Data COVID19 di Dunia & ASEAN",
      "provenance": []
    },
    "kernelspec": {
      "name": "python3",
      "display_name": "Python 3"
    },
    "language_info": {
      "name": "python"
    }
  },
  "cells": [
    {
      "cell_type": "markdown",
      "source": [
        "### Visualisasi Negara dengan Fatality Ratio Tertinggi "
      ],
      "metadata": {
        "id": "2mlEkOBX_Dwu"
      }
    },
    {
      "cell_type": "code",
      "source": [
        "import numpy as np\n",
        "import pandas as pd\n",
        "pd.set_option(\"display.max_columns\", None)\n",
        "\n",
        "covid_url = \"https://dqlab.id/data/covid19_worldwide_2020.json\"\n",
        "df_covid_worldwide = pd.read_json(covid_url)\n",
        "df_covid_worldwide = df_covid_worldwide.set_index(\"date\").sort_index().dropna()\n",
        "\n",
        "countries_url = \"https://dqlab.id/data/country_details.json\"\n",
        "df_countries = pd.read_json(countries_url)\n",
        "\n",
        "df_covid_denormalized = pd.merge(df_covid_worldwide.reset_index(), df_countries, on=\"geo_id\").set_index(\"date\")\n",
        "\n",
        "df_covid_denormalized_august = df_covid_denormalized.loc[\"2020-08\"].groupby(\"country_name\").sum()\n",
        "\n",
        "df_covid_denormalized_august[\"fatality_ratio\"] = df_covid_denormalized_august[\"deaths\"]/df_covid_denormalized_august[\"confirmed_cases\"]\n",
        "\n",
        "df_top_20_fatality_rate_on_august = df_covid_denormalized_august.sort_values(\"fatality_ratio\", ascending=False).head(20)\n",
        "\n",
        "# Visulisasi\n",
        "import matplotlib.pyplot as plt\n",
        "plt.figure(figsize=(8,8))\n",
        "df_top_20_fatality_rate_on_august[\"fatality_ratio\"].sort_values().plot(kind=\"barh\", color=\"coral\")\n",
        "plt.title(\"Top 20 Highest Fatality Rate Countries\", fontsize=18, color=\"b\")\n",
        "plt.xlabel(\"Fatality Rate\", fontsize=14)\n",
        "plt.ylabel(\"Country Name\", fontsize=14)\n",
        "plt.grid(axis=\"x\")\n",
        "plt.tight_layout()\n",
        "plt.show()"
      ],
      "metadata": {
        "colab": {
          "base_uri": "https://localhost:8080/",
          "height": 585
        },
        "id": "IY5lqQpR-_iM",
        "outputId": "328ebaa2-7452-4f8c-9ec3-79be83420007"
      },
      "execution_count": 2,
      "outputs": [
        {
          "output_type": "display_data",
          "data": {
            "image/png": "[encoded data removed]",
            "text/plain": [
              "<Figure size 576x576 with 1 Axes>"
            ]
          },
          "metadata": {
            "needs_background": "light"
          }
        }
      ]
    },
    {
      "cell_type": "markdown",
      "source": [
        "# Data Frame Kasus COVID-19 ASEAN"
      ],
      "metadata": {
        "id": "wyCwy2XY_M7m"
      }
    },
    {
      "cell_type": "code",
      "source": [
        "import numpy as np\n",
        "import pandas as pd\n",
        "pd.set_option(\"display.max_columns\", None)\n",
        "\n",
        "covid_url = \"https://dqlab.id/data/covid19_worldwide_2020.json\"\n",
        "df_covid_worldwide = pd.read_json(covid_url)\n",
        "df_covid_worldwide = df_covid_worldwide.set_index(\"date\").sort_index().dropna()\n",
        "\n",
        "countries_url = \"https://dqlab.id/data/country_details.json\"\n",
        "df_countries = pd.read_json(countries_url)\n",
        "\n",
        "df_covid_denormalized = pd.merge(df_covid_worldwide.reset_index(), df_countries, on=\"geo_id\").set_index(\"date\")\n",
        "\n",
        "asean_country_id = [\"ID\", \"MY\", \"SG\", \"TH\", \"VN\"]\n",
        "filter_list = [(df_covid_denormalized[\"geo_id\"]== country_id).to_numpy() for country_id in asean_country_id]\n",
        "filter_array = np.column_stack(filter_list).sum(axis=1, dtype=\"bool\")\n",
        "df_covid_denormalized_asean = df_covid_denormalized[filter_array].sort_index()\n",
        "\n",
        "print(\"Cek nilai unik di kolom 'country_name':\", df_covid_denormalized_asean[\"country_name\"].unique())\n",
        "print(df_covid_denormalized_asean.head())"
      ],
      "metadata": {
        "colab": {
          "base_uri": "https://localhost:8080/"
        },
        "id": "fe_T439p_Qfg",
        "outputId": "ce1804f1-e367-460c-e773-0131309d9774"
      },
      "execution_count": 3,
      "outputs": [
        {
          "output_type": "stream",
          "name": "stdout",
          "text": [
            "Cek nilai unik di kolom 'country_name': ['Malaysia' 'Vietnam' 'Thailand' 'Singapore' 'Indonesia']\n",
            "            daily_confirmed_cases  daily_deaths  confirmed_cases  deaths  \\\n",
            "date                                                                       \n",
            "2019-12-31                      0             0                0       0   \n",
            "2019-12-31                      0             0                0       0   \n",
            "2019-12-31                      0             0                0       0   \n",
            "2019-12-31                      0             0                0       0   \n",
            "2019-12-31                      0             0                0       0   \n",
            "\n",
            "           geo_id country_name  \n",
            "date                            \n",
            "2019-12-31     MY     Malaysia  \n",
            "2019-12-31     VN      Vietnam  \n",
            "2019-12-31     TH     Thailand  \n",
            "2019-12-31     SG    Singapore  \n",
            "2019-12-31     ID    Indonesia  \n"
          ]
        }
      ]
    },
    {
      "cell_type": "markdown",
      "source": [
        "# Kasus Pertama COVID-19 di ASEAN"
      ],
      "metadata": {
        "id": "ioPsOlYL_YMP"
      }
    },
    {
      "cell_type": "code",
      "source": [
        "import numpy as np\n",
        "import pandas as pd\n",
        "pd.set_option(\"display.max_columns\", None)\n",
        "\n",
        "covid_url = \"https://dqlab.id/data/covid19_worldwide_2020.json\"\n",
        "df_covid_worldwide = pd.read_json(covid_url)\n",
        "df_covid_worldwide = df_covid_worldwide.set_index(\"date\").sort_index().dropna()\n",
        "\n",
        "countries_url = \"https://dqlab.id/data/country_details.json\"\n",
        "df_countries = pd.read_json(countries_url)\n",
        "\n",
        "df_covid_denormalized = pd.merge(df_covid_worldwide.reset_index(), df_countries, on=\"geo_id\").set_index(\"date\")\n",
        "\n",
        "asean_country_id = [\"ID\", \"MY\", \"SG\", \"TH\", \"VN\"]\n",
        "filter_list = [(df_covid_denormalized[\"geo_id\"]==country_id).to_numpy() for country_id in asean_country_id]\n",
        "filter_array = np.column_stack(filter_list).sum(axis=1, dtype=\"bool\")\n",
        "df_covid_denormalized_asean = df_covid_denormalized[filter_array].sort_index()\n",
        "\n",
        "print(\"The first case popped up in each of 5 ASEAN countries:\")\n",
        "for country_id in asean_country_id:\n",
        "    asean_country = df_covid_denormalized_asean[df_covid_denormalized_asean[\"geo_id\"]==country_id]\n",
        "    first_case = asean_country[asean_country[\"confirmed_cases\"]>0][[\"confirmed_cases\",\"geo_id\",\"country_name\"]]\n",
        "    print(first_case.head(1))"
      ],
      "metadata": {
        "colab": {
          "base_uri": "https://localhost:8080/"
        },
        "id": "w9Qk3GMY_d4m",
        "outputId": "c6873ad7-d43f-4566-cdda-e96be44fe9a0"
      },
      "execution_count": 4,
      "outputs": [
        {
          "output_type": "stream",
          "name": "stdout",
          "text": [
            "The first case popped up in each of 5 ASEAN countries:\n",
            "            confirmed_cases geo_id country_name\n",
            "date                                           \n",
            "2020-03-02                2     ID    Indonesia\n",
            "            confirmed_cases geo_id country_name\n",
            "date                                           \n",
            "2020-01-25                3     MY     Malaysia\n",
            "            confirmed_cases geo_id country_name\n",
            "date                                           \n",
            "2020-01-24                3     SG    Singapore\n",
            "            confirmed_cases geo_id country_name\n",
            "date                                           \n",
            "2020-01-13                1     TH     Thailand\n",
            "            confirmed_cases geo_id country_name\n",
            "date                                           \n",
            "2020-01-24                2     VN      Vietnam\n"
          ]
        }
      ]
    },
    {
      "cell_type": "markdown",
      "source": [
        "# Kasus Covid-19 di ASEAN mulai Bulan Maret 2020\n"
      ],
      "metadata": {
        "id": "7z9NoMY0_ng3"
      }
    },
    {
      "cell_type": "code",
      "source": [
        "import numpy as np\n",
        "import pandas as pd\n",
        "pd.set_option(\"display.max_columns\", None)\n",
        "\n",
        "covid_url = \"https://dqlab.id/data/covid19_worldwide_2020.json\"\n",
        "df_covid_worldwide = pd.read_json(covid_url)\n",
        "df_covid_worldwide = df_covid_worldwide.set_index(\"date\").sort_index().dropna()\n",
        "\n",
        "countries_url = \"https://dqlab.id/data/country_details.json\"\n",
        "df_countries = pd.read_json(countries_url)\n",
        "\n",
        "df_covid_denormalized = pd.merge(df_covid_worldwide.reset_index(), df_countries, on=\"geo_id\").set_index(\"date\")\n",
        "\n",
        "asean_country_id = [\"ID\", \"MY\", \"SG\", \"TH\", \"VN\"]\n",
        "filter_list = [(df_covid_denormalized[\"geo_id\"]==country_id).to_numpy() for country_id in asean_country_id]\n",
        "filter_array = np.column_stack(filter_list).sum(axis=1, dtype=\"bool\")\n",
        "df_covid_denormalized_asean = df_covid_denormalized[filter_array].sort_index()\n",
        "\n",
        "df_covid_denormalized_asean_march_onward = df_covid_denormalized_asean[df_covid_denormalized_asean.index>=\"2020-03-01\"]\n",
        "print(df_covid_denormalized_asean_march_onward.head())"
      ],
      "metadata": {
        "colab": {
          "base_uri": "https://localhost:8080/"
        },
        "id": "w3JVQ6RSBVf6",
        "outputId": "68164606-6031-43c3-8a7c-763beb9d76b9"
      },
      "execution_count": 5,
      "outputs": [
        {
          "output_type": "stream",
          "name": "stdout",
          "text": [
            "            daily_confirmed_cases  daily_deaths  confirmed_cases  deaths  \\\n",
            "date                                                                       \n",
            "2020-03-01                      0             1               42       1   \n",
            "2020-03-01                      4             0              102       0   \n",
            "2020-03-01                      0             0               16       0   \n",
            "2020-03-01                      0             0                0       0   \n",
            "2020-03-01                      0             0               25       0   \n",
            "\n",
            "           geo_id country_name  \n",
            "date                            \n",
            "2020-03-01     TH     Thailand  \n",
            "2020-03-01     SG    Singapore  \n",
            "2020-03-01     VN      Vietnam  \n",
            "2020-03-01     ID    Indonesia  \n",
            "2020-03-01     MY     Malaysia  \n"
          ]
        }
      ]
    },
    {
      "cell_type": "markdown",
      "source": [
        "## Visualisasi Kasus COVID-19 di ASEAN"
      ],
      "metadata": {
        "id": "YYsCGUq4Jbu9"
      }
    },
    {
      "cell_type": "code",
      "source": [
        "import numpy as np\n",
        "import pandas as pd\n",
        "pd.set_option(\"display.max_columns\", None)\n",
        "\n",
        "covid_url = \"https://dqlab.id/data/covid19_worldwide_2020.json\"\n",
        "df_covid_worldwide = pd.read_json(covid_url)\n",
        "df_covid_worldwide = df_covid_worldwide.set_index(\"date\").sort_index().dropna()\n",
        "\n",
        "countries_url = \"https://dqlab.id/data/country_details.json\"\n",
        "df_countries = pd.read_json(countries_url)\n",
        "\n",
        "df_covid_denormalized = pd.merge(df_covid_worldwide.reset_index(), df_countries, on=\"geo_id\").set_index(\"date\")\n",
        "\n",
        "asean_country_id = [\"ID\", \"MY\", \"SG\", \"TH\", \"VN\"]\n",
        "filter_list = [(df_covid_denormalized[\"geo_id\"]==country_id).to_numpy() for country_id in asean_country_id]\n",
        "filter_array = np.column_stack(filter_list).sum(axis=1, dtype=\"bool\")\n",
        "df_covid_denormalized_asean = df_covid_denormalized[filter_array].sort_index()\n",
        "\n",
        "df_covid_denormalized_asean_march_onward = df_covid_denormalized_asean[df_covid_denormalized_asean.index>=\"2020-03-01\"]\n",
        "\n",
        "import matplotlib.pyplot as plt\n",
        "import seaborn as sns\n",
        "plt.figure(figsize=(16,6))\n",
        "sns.lineplot(data=df_covid_denormalized_asean_march_onward, \n",
        "             x=df_covid_denormalized_asean_march_onward.index, \n",
        "             y=\"confirmed_cases\", \n",
        "             hue=\"country_name\",\n",
        "             linewidth=2)\n",
        "plt.xlabel('Record Date', fontsize=14)\n",
        "plt.ylabel('Total Cases', fontsize=14)\n",
        "plt.title('Comparison of COVID19 Cases in 5 ASEAN Countries', color=\"b\", fontsize=18)\n",
        "plt.grid()\n",
        "plt.tight_layout()\n",
        "plt.show()"
      ],
      "metadata": {
        "id": "rS7t-tMqJeCV"
      },
      "execution_count": null,
      "outputs": []
    }
  ]
}